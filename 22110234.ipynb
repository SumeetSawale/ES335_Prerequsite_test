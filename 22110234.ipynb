{
  "nbformat": 4,
  "nbformat_minor": 0,
  "metadata": {
    "colab": {
      "provenance": [],
      "toc_visible": true
    },
    "kernelspec": {
      "name": "python3",
      "display_name": "Python 3"
    },
    "language_info": {
      "name": "python"
    }
  },
  "cells": [
    {
      "cell_type": "code",
      "source": [
        "try :\n",
        "  import numpy as np\n",
        "  import time\n",
        "  import jax\n",
        "  import matplotlib.pyplot as plt\n",
        "  import pandas as pd\n",
        "\n",
        "except ImportError :\n",
        "  %pip install numpy\n",
        "  %pip install time\n",
        "  %pip install jax\n",
        "  %pip install matplotlib\n",
        "  %pip install pandas\n",
        "\n",
        "  import numpy as np\n",
        "  import time\n",
        "  import jax\n",
        "  import matplotlib.pyplot as plt\n",
        "  import pandas as pd"
      ],
      "metadata": {
        "id": "99L65EZSVHk5"
      },
      "execution_count": 100,
      "outputs": []
    },
    {
      "cell_type": "markdown",
      "source": [
        "# Question 1: Matrix multiplication"
      ],
      "metadata": {
        "id": "Hbvsy1f1S-Zk"
      }
    },
    {
      "cell_type": "markdown",
      "source": [
        "Total elements = n.m\n",
        "\n",
        "Multiplications for one element of final matrix = k\n",
        "\n",
        "Additions for one element of final matrix = k-1\n",
        "\n",
        "Total multiplications = n.m.k\n",
        "\n",
        "Total additions = n.m.(k-1)"
      ],
      "metadata": {
        "id": "-FaHF_s-ScKL"
      }
    },
    {
      "cell_type": "markdown",
      "source": [
        "# Question 2: Matrix multiplication using numpy"
      ],
      "metadata": {
        "id": "NKul18GeS3iu"
      }
    },
    {
      "cell_type": "code",
      "source": [
        "# Initializing matrices\n",
        "m1 = [[1,2,3],[4,5,6],[7,8,9]]\n",
        "m2 = [[1,2,3],[4,5,6],[7,8,9]]"
      ],
      "metadata": {
        "id": "DoiPLI879Pf2"
      },
      "execution_count": null,
      "outputs": []
    },
    {
      "cell_type": "code",
      "source": [
        "# Matrix Multiplication using loops\n",
        "start = time.time()\n",
        "m = [[0,0,0],[0,0,0],[0,0,0]]\n",
        "for row in range(3) :\n",
        "    for col in range(3) :\n",
        "        m[row][col] = m1[row][0]*m2[0][col] + m1[row][1]*m2[1][col] + m1[row][2]*m2[2][col]\n",
        "end = time.time()\n",
        "print(f\"{(end-start)*1000} ms\")"
      ],
      "metadata": {
        "colab": {
          "base_uri": "https://localhost:8080/"
        },
        "id": "He45CSijSskW",
        "outputId": "4578d16c-b717-4bc2-d4b0-576e8e0e5cb8"
      },
      "execution_count": null,
      "outputs": [
        {
          "output_type": "stream",
          "name": "stdout",
          "text": [
            "0.3113746643066406 ms\n"
          ]
        }
      ]
    },
    {
      "cell_type": "code",
      "source": [
        "# Matrix multiplication using numpy\n",
        "\n",
        "start = time.time()\n",
        "np.matmul(m1,m2)\n",
        "end = time.time()\n",
        "\n",
        "print(f\"{(end-start)*1000} ms\")"
      ],
      "metadata": {
        "colab": {
          "base_uri": "https://localhost:8080/"
        },
        "id": "SBF3n0JAAOKJ",
        "outputId": "41dc6c8a-718f-478f-e6a2-967a05034c8b"
      },
      "execution_count": null,
      "outputs": [
        {
          "output_type": "stream",
          "name": "stdout",
          "text": [
            "0.1881122589111328 ms\n"
          ]
        }
      ]
    },
    {
      "cell_type": "markdown",
      "source": [
        "Matrix multiplication using numpy is almost twice as fast compared to multiplication using loops. Numpy is optimized for all math operations"
      ],
      "metadata": {
        "id": "JOATH2EXA099"
      }
    },
    {
      "cell_type": "markdown",
      "source": [
        "# Question 3: Median"
      ],
      "metadata": {
        "id": "5FdgeO-RU6eN"
      }
    },
    {
      "cell_type": "code",
      "source": [
        "a = [2,1,5,3,4,6,9,8,10,7]\n",
        "l = len(a)\n",
        "prev = np.Infinity\n",
        "if l%2 :\n",
        "  for _ in range(l//2+1) :\n",
        "    cur = -np.Infinity\n",
        "    for i in range(l) :\n",
        "      if (prev > a[i] > cur) :\n",
        "        cur = a[i]\n",
        "    prev = cur\n",
        "  med = cur\n",
        "else :\n",
        "  for _ in range(l//2) :\n",
        "    cur = -np.Infinity\n",
        "    for i in range(l) :\n",
        "      if (prev > a[i] > cur) :\n",
        "        cur = a[i]\n",
        "    prev = cur\n",
        "  cur = -np.Infinity\n",
        "  for i in range(l) :\n",
        "      if (prev > a[i] > cur) :\n",
        "        cur = a[i]\n",
        "  med = (cur + prev)/2\n",
        "\n",
        "print(f\"Median is {med}\")"
      ],
      "metadata": {
        "colab": {
          "base_uri": "https://localhost:8080/"
        },
        "id": "Kl1R6xq0BPRB",
        "outputId": "5d579304-a2c0-4f2b-ca47-86ae7c3013b1"
      },
      "execution_count": null,
      "outputs": [
        {
          "output_type": "stream",
          "name": "stdout",
          "text": [
            "Median is 5.5\n"
          ]
        }
      ]
    },
    {
      "cell_type": "markdown",
      "source": [
        "This approach of finding median by finding the largest element in one pass of array takes **n/2** passes of array. One pass of array is **O(n)** time. Therefore, time complexity of this algorithm is **O(n^2)**."
      ],
      "metadata": {
        "id": "uVYEF4LuBwTf"
      }
    },
    {
      "cell_type": "markdown",
      "source": [
        "One of the most obvious ways of improving the time complexity is by sorting the array in **n*log(n)** time and then finding the median in constant time."
      ],
      "metadata": {
        "id": "OujDe67ACGVD"
      }
    },
    {
      "cell_type": "code",
      "source": [
        "a1 = np.sort(a)\n",
        "if l%2 :\n",
        "  med = a1[l//2]\n",
        "else :\n",
        "  med = (a1[l//2-1] + a1[l//2])/2\n",
        "print(f\"Median is {med}\")"
      ],
      "metadata": {
        "colab": {
          "base_uri": "https://localhost:8080/"
        },
        "id": "IQBAfMcxCsQ8",
        "outputId": "a91914e6-bca6-444a-f17d-1d34b641fc7b"
      },
      "execution_count": null,
      "outputs": [
        {
          "output_type": "stream",
          "name": "stdout",
          "text": [
            "Median is 5.5\n"
          ]
        }
      ]
    },
    {
      "cell_type": "code",
      "source": [
        "print(f\"Median is {np.median(a)}\")"
      ],
      "metadata": {
        "colab": {
          "base_uri": "https://localhost:8080/"
        },
        "id": "EdjWIy1tDWjT",
        "outputId": "d347a004-acd5-4246-8a31-f426b67d03f2"
      },
      "execution_count": null,
      "outputs": [
        {
          "output_type": "stream",
          "name": "stdout",
          "text": [
            "Median is 5.5\n"
          ]
        }
      ]
    },
    {
      "cell_type": "markdown",
      "source": [
        "I could not find a way to measure the execution time. It showed **0.0 s** using **time.time()**."
      ],
      "metadata": {
        "id": "06cw2EXaDrpw"
      }
    },
    {
      "cell_type": "markdown",
      "source": [
        "# Question 4: Gradient"
      ],
      "metadata": {
        "id": "wwutVDS_-YzR"
      }
    },
    {
      "cell_type": "markdown",
      "source": [
        "**Gradient w.r.t x** = 2xy + (y^3)*cos(x)\n",
        "\n",
        "**Gradient w.r.t y** = x^2 + (3y^2)*sin(x)"
      ],
      "metadata": {
        "id": "ADElEd3v-da3"
      }
    },
    {
      "cell_type": "code",
      "source": [
        "x_val = np.random.random()\n",
        "y_val = np.random.random()\n",
        "\n",
        "def df_dx(x, y) :\n",
        "  return 2*x*y + y**3 * np.cos(x)\n",
        "\n",
        "def df_dy(x, y) :\n",
        "  return x**2 + 3*y**2 * np.sin(x)\n",
        "\n",
        "print(f\"x = {x_val} and y = {y_val}\")\n",
        "print(f\"Gradient w.r.t x at is {df_dx(x_val, y_val)}\")\n",
        "print(f\"Gradient w.r.t y at is {df_dy(x_val, y_val)}\")"
      ],
      "metadata": {
        "colab": {
          "base_uri": "https://localhost:8080/"
        },
        "id": "YcZNn0ymVLl3",
        "outputId": "40dfe67c-158f-466a-994e-97cea56cc8d7"
      },
      "execution_count": 113,
      "outputs": [
        {
          "output_type": "stream",
          "name": "stdout",
          "text": [
            "x = 0.8069167666535396 and y = 0.9282536111937257\n",
            "Gradient w.r.t x at is 2.0513147199683006\n",
            "Gradient w.r.t y at is 2.51786693093709\n"
          ]
        }
      ]
    },
    {
      "cell_type": "markdown",
      "source": [
        "# Question 5: JAX Gradient"
      ],
      "metadata": {
        "id": "j5e8HuKC_EXj"
      }
    },
    {
      "cell_type": "code",
      "source": [
        "def f(x, y):\n",
        "    return x**2 * y + y**3 * np.sin(x)\n",
        "\n",
        "grad_f = jax.grad(f, argnums=(0, 1))\n",
        "\n",
        "gradient = grad_f(x_val, y_val)\n",
        "\n",
        "print(f\"x = {x_val} and y = {y_val}\")\n",
        "print(f\"Gradient w.r.t x at is {gradient(x_val, y_val)[0]}\")\n",
        "print(f\"Gradient w.r.t y at is {gradient(x_val, y_val)[0]}\")"
      ],
      "metadata": {
        "colab": {
          "base_uri": "https://localhost:8080/",
          "height": 442
        },
        "id": "TYlzEyVtTv9c",
        "outputId": "b7e39b1f-d944-4bf3-90d6-d7b3863ae50c"
      },
      "execution_count": 114,
      "outputs": [
        {
          "output_type": "error",
          "ename": "TracerArrayConversionError",
          "evalue": "The numpy.ndarray conversion method __array__() was called on traced array with shape float32[].\nSee https://jax.readthedocs.io/en/latest/errors.html#jax.errors.TracerArrayConversionError",
          "traceback": [
            "\u001b[0;31m---------------------------------------------------------------------------\u001b[0m",
            "\u001b[0;31mTracerArrayConversionError\u001b[0m                Traceback (most recent call last)",
            "\u001b[0;32m<ipython-input-114-1c8f606b516f>\u001b[0m in \u001b[0;36m<cell line: 6>\u001b[0;34m()\u001b[0m\n\u001b[1;32m      4\u001b[0m \u001b[0mgrad_f\u001b[0m \u001b[0;34m=\u001b[0m \u001b[0mjax\u001b[0m\u001b[0;34m.\u001b[0m\u001b[0mgrad\u001b[0m\u001b[0;34m(\u001b[0m\u001b[0mf\u001b[0m\u001b[0;34m,\u001b[0m \u001b[0margnums\u001b[0m\u001b[0;34m=\u001b[0m\u001b[0;34m(\u001b[0m\u001b[0;36m0\u001b[0m\u001b[0;34m,\u001b[0m \u001b[0;36m1\u001b[0m\u001b[0;34m)\u001b[0m\u001b[0;34m)\u001b[0m\u001b[0;34m\u001b[0m\u001b[0;34m\u001b[0m\u001b[0m\n\u001b[1;32m      5\u001b[0m \u001b[0;34m\u001b[0m\u001b[0m\n\u001b[0;32m----> 6\u001b[0;31m \u001b[0mgradient\u001b[0m \u001b[0;34m=\u001b[0m \u001b[0mgrad_f\u001b[0m\u001b[0;34m(\u001b[0m\u001b[0mx_val\u001b[0m\u001b[0;34m,\u001b[0m \u001b[0my_val\u001b[0m\u001b[0;34m)\u001b[0m\u001b[0;34m\u001b[0m\u001b[0;34m\u001b[0m\u001b[0m\n\u001b[0m\u001b[1;32m      7\u001b[0m \u001b[0;34m\u001b[0m\u001b[0m\n\u001b[1;32m      8\u001b[0m \u001b[0mprint\u001b[0m\u001b[0;34m(\u001b[0m\u001b[0;34mf\"x = {x_val} and y = {y_val}\"\u001b[0m\u001b[0;34m)\u001b[0m\u001b[0;34m\u001b[0m\u001b[0;34m\u001b[0m\u001b[0m\n",
            "    \u001b[0;31m[... skipping hidden 10 frame]\u001b[0m\n",
            "\u001b[0;32m<ipython-input-114-1c8f606b516f>\u001b[0m in \u001b[0;36mf\u001b[0;34m(x, y)\u001b[0m\n\u001b[1;32m      1\u001b[0m \u001b[0;32mdef\u001b[0m \u001b[0mf\u001b[0m\u001b[0;34m(\u001b[0m\u001b[0mx\u001b[0m\u001b[0;34m,\u001b[0m \u001b[0my\u001b[0m\u001b[0;34m)\u001b[0m\u001b[0;34m:\u001b[0m\u001b[0;34m\u001b[0m\u001b[0;34m\u001b[0m\u001b[0m\n\u001b[0;32m----> 2\u001b[0;31m     \u001b[0;32mreturn\u001b[0m \u001b[0mx\u001b[0m\u001b[0;34m**\u001b[0m\u001b[0;36m2\u001b[0m \u001b[0;34m*\u001b[0m \u001b[0my\u001b[0m \u001b[0;34m+\u001b[0m \u001b[0my\u001b[0m\u001b[0;34m**\u001b[0m\u001b[0;36m3\u001b[0m \u001b[0;34m*\u001b[0m \u001b[0mnp\u001b[0m\u001b[0;34m.\u001b[0m\u001b[0msin\u001b[0m\u001b[0;34m(\u001b[0m\u001b[0mx\u001b[0m\u001b[0;34m)\u001b[0m\u001b[0;34m\u001b[0m\u001b[0;34m\u001b[0m\u001b[0m\n\u001b[0m\u001b[1;32m      3\u001b[0m \u001b[0;34m\u001b[0m\u001b[0m\n\u001b[1;32m      4\u001b[0m \u001b[0mgrad_f\u001b[0m \u001b[0;34m=\u001b[0m \u001b[0mjax\u001b[0m\u001b[0;34m.\u001b[0m\u001b[0mgrad\u001b[0m\u001b[0;34m(\u001b[0m\u001b[0mf\u001b[0m\u001b[0;34m,\u001b[0m \u001b[0margnums\u001b[0m\u001b[0;34m=\u001b[0m\u001b[0;34m(\u001b[0m\u001b[0;36m0\u001b[0m\u001b[0;34m,\u001b[0m \u001b[0;36m1\u001b[0m\u001b[0;34m)\u001b[0m\u001b[0;34m)\u001b[0m\u001b[0;34m\u001b[0m\u001b[0;34m\u001b[0m\u001b[0m\n\u001b[1;32m      5\u001b[0m \u001b[0;34m\u001b[0m\u001b[0m\n",
            "\u001b[0;32m/usr/local/lib/python3.10/dist-packages/jax/_src/core.py\u001b[0m in \u001b[0;36m__array__\u001b[0;34m(self, *args, **kw)\u001b[0m\n\u001b[1;32m    708\u001b[0m \u001b[0;34m\u001b[0m\u001b[0m\n\u001b[1;32m    709\u001b[0m   \u001b[0;32mdef\u001b[0m \u001b[0m__array__\u001b[0m\u001b[0;34m(\u001b[0m\u001b[0mself\u001b[0m\u001b[0;34m,\u001b[0m \u001b[0;34m*\u001b[0m\u001b[0margs\u001b[0m\u001b[0;34m,\u001b[0m \u001b[0;34m**\u001b[0m\u001b[0mkw\u001b[0m\u001b[0;34m)\u001b[0m\u001b[0;34m:\u001b[0m\u001b[0;34m\u001b[0m\u001b[0;34m\u001b[0m\u001b[0m\n\u001b[0;32m--> 710\u001b[0;31m     \u001b[0;32mraise\u001b[0m \u001b[0mTracerArrayConversionError\u001b[0m\u001b[0;34m(\u001b[0m\u001b[0mself\u001b[0m\u001b[0;34m)\u001b[0m\u001b[0;34m\u001b[0m\u001b[0;34m\u001b[0m\u001b[0m\n\u001b[0m\u001b[1;32m    711\u001b[0m \u001b[0;34m\u001b[0m\u001b[0m\n\u001b[1;32m    712\u001b[0m   \u001b[0;32mdef\u001b[0m \u001b[0m__dlpack__\u001b[0m\u001b[0;34m(\u001b[0m\u001b[0mself\u001b[0m\u001b[0;34m,\u001b[0m \u001b[0;34m*\u001b[0m\u001b[0margs\u001b[0m\u001b[0;34m,\u001b[0m \u001b[0;34m**\u001b[0m\u001b[0mkw\u001b[0m\u001b[0;34m)\u001b[0m\u001b[0;34m:\u001b[0m\u001b[0;34m\u001b[0m\u001b[0;34m\u001b[0m\u001b[0m\n",
            "\u001b[0;31mTracerArrayConversionError\u001b[0m: The numpy.ndarray conversion method __array__() was called on traced array with shape float32[].\nSee https://jax.readthedocs.io/en/latest/errors.html#jax.errors.TracerArrayConversionError"
          ]
        }
      ]
    },
    {
      "cell_type": "markdown",
      "source": [
        "# Question 6: sympy Gradient"
      ],
      "metadata": {
        "id": "6PtMWuz8N_R8"
      }
    },
    {
      "cell_type": "code",
      "source": [
        "def f(x,y) :\n",
        "  return ((x**2)*y + (y**3)*np.sin(x))\n",
        "\n",
        "jax_gradient = jax.grad(f)\n"
      ],
      "metadata": {
        "id": "cdnqlAZQ_IJI"
      },
      "execution_count": null,
      "outputs": []
    },
    {
      "cell_type": "markdown",
      "source": [
        "# Question 7: Nested Dictionary\n"
      ],
      "metadata": {
        "id": "M4kqS-hFHQyU"
      }
    },
    {
      "cell_type": "code",
      "source": [
        "Database =\n",
        "{\n",
        "    \"2022\" : {\n",
        "                \"Branch 1\" :  [\n",
        "                                {\n",
        "                                    \"Roll Number\" : 1,\n",
        "                                    \"Name\" : \"N1\",\n",
        "                                    \"Marks\" : {\"Maths\" : 100, \"English\" : 70}\n",
        "                                },\n",
        "\n",
        "                                {\n",
        "                                    \"Roll Number\" : 2,\n",
        "                                    \"Name\" : \"N2\",\n",
        "                                    \"Marks\" : {\"Maths\" : 99, \"English\" : 80}\n",
        "                                }\n",
        "                              ],\n",
        "\n",
        "                \"Branch 2\" :  [\n",
        "                                {\n",
        "                                    \"Roll Number\" : 1,\n",
        "                                    \"Name\" : \"N1\",\n",
        "                                    \"Marks\" : {\"Maths\" : 100, \"English\" : 70}\n",
        "                                },\n",
        "\n",
        "                                {\n",
        "                                    \"Roll Number\" : 2,\n",
        "                                    \"Name\" : \"N2\",\n",
        "                                    \"Marks\" : {\"Maths\" : 99, \"English\" : 80}\n",
        "                                }\n",
        "                              ]\n",
        "            },\n",
        "\n",
        "    \"2021\" : {\n",
        "                \"Branch 1\" :  [\n",
        "                                {\n",
        "                                    \"Roll Number\" : 1,\n",
        "                                    \"Name\" : \"N1\",\n",
        "                                    \"Marks\" : {\"Maths\" : 100, \"English\" : 70}\n",
        "                                },\n",
        "\n",
        "                                {\n",
        "                                    \"Roll Number\" : 2,\n",
        "                                    \"Name\" : \"N2\",\n",
        "                                    \"Marks\" : {\"Maths\" : 99, \"English\" : 80}\n",
        "                                }\n",
        "                              ],\n",
        "\n",
        "                \"Branch 2\" :  [\n",
        "                                {\n",
        "                                    \"Roll Number\" : 1,\n",
        "                                    \"Name\" : \"N1\",\n",
        "                                    \"Marks\" : {\"Maths\" : 100, \"English\" : 70}\n",
        "                                },\n",
        "\n",
        "                                {\n",
        "                                    \"Roll Number\" : 2,\n",
        "                                    \"Name\" : \"N2\",\n",
        "                                    \"Marks\" : {\"Maths\" : 99, \"English\" : 80}\n",
        "                                }\n",
        "                              ]\n",
        "            }\n",
        "}"
      ],
      "metadata": {
        "id": "dYyhgIwaHTo3"
      },
      "execution_count": null,
      "outputs": []
    },
    {
      "cell_type": "markdown",
      "source": [
        "# Question 8: Classes"
      ],
      "metadata": {
        "id": "FS_RQE1vNQhW"
      }
    },
    {
      "cell_type": "code",
      "source": [
        "class Students() :\n",
        "  def __init__(self, roll, name, marks) : # Dictionary of roll no, name and marks\n",
        "    self.roll = roll\n",
        "    self.name = name\n",
        "    self.marks = marks # Dictionary of marks\n",
        "\n",
        "class Branches() :\n",
        "  def __init__(self, students) :\n",
        "    self.students = students # List of students\n",
        "\n",
        "class Year() :\n",
        "  def __init__(self, branches) :\n",
        "    self.branches = branches # Dictionary of branches\n",
        "\n",
        "\n",
        "Student_1 = Students(1, \"N1\", {\"Maths\" : 99, \"English\" : 80})\n",
        "Student_2 = Students(2, \"N2\", {\"Maths\" : 99, \"English\" : 80})\n",
        "Branch_1 = Branches([Student_1, Student_2])\n",
        "\n",
        "Student_3 = Students(3, \"N3\", {\"Maths\" : 99, \"English\" : 80})\n",
        "Student_4 = Students(4, \"N4\", {\"Maths\" : 99, \"English\" : 80})\n",
        "Branch_2 = Branches([Student_3, Student_4])\n",
        "\n",
        "Year_2022 = Year({\"CSE\" : Branch_1, \"EE\" : Branch_2})\n",
        "\n",
        "\n",
        "Student_5 = Students(5, \"N5\", {\"Maths\" : 99, \"English\" : 80})\n",
        "Student_6 = Students(6, \"N6\", {\"Maths\" : 99, \"English\" : 80})\n",
        "Branch_3 = Branches([Student_5, Student_6])\n",
        "\n",
        "Student_7 = Students(7, \"N7\", {\"Maths\" : 99, \"English\" : 80})\n",
        "Student_8 = Students(8, \"N8\", {\"Maths\" : 99, \"English\" : 80})\n",
        "Branch_4 = Branches([Student_7, Student_8])\n",
        "\n",
        "Year_2021 = Year({\"CSE\" : Branch_3, \"EE\" : Branch_4})\n",
        "\n",
        "\n",
        "Database = {\"2022\" : Year_2022, \"2021\" : Year_2021}"
      ],
      "metadata": {
        "id": "jT-hA6bjJ_Qz"
      },
      "execution_count": null,
      "outputs": []
    },
    {
      "cell_type": "markdown",
      "source": [
        "# Question 9: Matplotlib"
      ],
      "metadata": {
        "id": "HSJDVK3LOF5I"
      }
    },
    {
      "cell_type": "code",
      "source": [
        "x = np.arange(0.5, 100.5, 0.5)\n",
        "\n",
        "y1 = x\n",
        "y2 = x**2\n",
        "y3 = (x**3)/100\n",
        "y4 = np.array([np.sin(i) for i in x])\n",
        "y5 = y4/x\n",
        "y6 = np.array([np.log(i) for i in x])\n",
        "y7 = np.array([np.exp(i) for i in x])\n",
        "\n",
        "y = [y1, y2, y3, y4, y5, y6, y7]\n",
        "plt.figure()\n",
        "for i in range(7) :\n",
        "  plt.subplot(3,3,i+1)\n",
        "  plt.plot(x, y[i])"
      ],
      "metadata": {
        "id": "eEVbttI8OMZP",
        "colab": {
          "base_uri": "https://localhost:8080/",
          "height": 430
        },
        "outputId": "5a1ed096-2c4b-4b12-ca6e-3295349607c3"
      },
      "execution_count": null,
      "outputs": [
        {
          "output_type": "display_data",
          "data": {
            "text/plain": [
              "<Figure size 640x480 with 7 Axes>"
            ],
            "image/png": "[encoded data removed]"
          },
          "metadata": {}
        }
      ]
    },
    {
      "cell_type": "markdown",
      "source": [
        "# Question 10: Pandas\n"
      ],
      "metadata": {
        "id": "G4AfoVGB-iOT"
      }
    },
    {
      "cell_type": "code",
      "source": [
        "arr = np.random.uniform(1,2,size=(20,5))\n",
        "\n",
        "df = pd.DataFrame(arr, columns=['a', 'b', 'c', 'd', 'e'])\n",
        "\n",
        "a = np.std(df, axis = 0)\n",
        "\n",
        "col = ['a', 'b', 'c', 'd', 'e']\n",
        "print(f\"Column with highest S.D. is '{col[np.argmax(a)]}'\")\n",
        "\n",
        "b = np.mean(df, axis = 1)\n",
        "print(f\"Row  with lowest mean is '{np.argmin(b)}'\")"
      ],
      "metadata": {
        "colab": {
          "base_uri": "https://localhost:8080/"
        },
        "id": "YFBbU5XO-qSV",
        "outputId": "af1bd318-e511-4740-9064-e66fd12341cc"
      },
      "execution_count": null,
      "outputs": [
        {
          "output_type": "stream",
          "name": "stdout",
          "text": [
            "Column with highest S.D. is 'e'\n",
            "Row  with lowest mean is '6'\n"
          ]
        }
      ]
    },
    {
      "cell_type": "markdown",
      "source": [
        "# Question 11: Pandas"
      ],
      "metadata": {
        "id": "tNxdKcQYAuxm"
      }
    },
    {
      "cell_type": "code",
      "source": [
        "df.insert(5, 'f', df.sum(axis=1))\n",
        "arr = []\n",
        "for i in range(len(df)) :\n",
        "  if df['f'][i] < 8 :\n",
        "    arr.append(\"LT8\")\n",
        "  else :\n",
        "    arr.append(\"GT8\")\n",
        "df.insert(6, 'g', arr)\n",
        "\n",
        "df2 = df.groupby('g').size()\n",
        "n = df2[\"LT8\"]\n",
        "print(f\"No. of rows with value LT8 in g is {n}\")\n",
        "\n",
        "df3 = df.groupby('g').std()\n",
        "\n",
        "g = df3['f'][\"GT8\"]\n",
        "print(f\"S.D. for rows with GT8 is {g}\")\n",
        "l = df3['f'][\"LT8\"]\n",
        "print(f\"S.D. for rows with LT8 is {l}\")"
      ],
      "metadata": {
        "colab": {
          "base_uri": "https://localhost:8080/"
        },
        "id": "HX0wdi1SA2yR",
        "outputId": "a679d6c4-05b3-4960-863a-4f68471f97b4"
      },
      "execution_count": null,
      "outputs": [
        {
          "output_type": "stream",
          "name": "stdout",
          "text": [
            "No. of rows with value LT8 in g is 18\n",
            "S.D. for rows with GT8 is 0.2935118914520453\n",
            "S.D. for rows with LT8 is 0.4630324441435233\n"
          ]
        }
      ]
    },
    {
      "cell_type": "markdown",
      "source": [
        "# Question 12: Broadcasting"
      ],
      "metadata": {
        "id": "8USGDd2fHzN3"
      }
    },
    {
      "cell_type": "code",
      "source": [
        "arr1 = np.array([[1,2,3], [1,2,3], [1,2,3]])\n",
        "arr2 = np.array([[1,1,1]])\n",
        "\n",
        "print(f\"Shape of array 1 {np.shape(arr1)}\")\n",
        "print(f\"Shape of array 2 {np.shape(arr2)}\")\n",
        "\n",
        "print(f\"Shape of result {np.shape(arr1*arr2)}\")\n",
        "\n",
        "print(arr1*arr2)"
      ],
      "metadata": {
        "colab": {
          "base_uri": "https://localhost:8080/"
        },
        "id": "AwYaydczH8I1",
        "outputId": "bbe009b7-33ea-4a74-9f78-faa894239d61"
      },
      "execution_count": null,
      "outputs": [
        {
          "output_type": "stream",
          "name": "stdout",
          "text": [
            "Shape of array 1 (3, 3)\n",
            "Shape of array 2 (1, 3)\n",
            "Shape of result (3, 3)\n",
            "[[1 2 3]\n",
            " [1 2 3]\n",
            " [1 2 3]]\n"
          ]
        }
      ]
    },
    {
      "cell_type": "markdown",
      "source": [],
      "metadata": {
        "id": "wt1aqqWNLycP"
      }
    },
    {
      "cell_type": "markdown",
      "source": [
        "# Question 13: Argmin"
      ],
      "metadata": {
        "id": "bsJI_EwpII9e"
      }
    },
    {
      "cell_type": "code",
      "source": [
        "arr = np.array([np.random.randint(1,11) for _ in range(10)])\n",
        "\n",
        "argmin = 0\n",
        "for i in range(1, len(arr)) :\n",
        "  if (arr[i] < arr[argmin]) :\n",
        "    argmin = i\n",
        "\n",
        "print(f\"Index of minimum element is {argmin}\")\n",
        "print(f\"Argmin using numpy {np.argmin(arr)}\")"
      ],
      "metadata": {
        "colab": {
          "base_uri": "https://localhost:8080/"
        },
        "id": "Al22pzO6IMPx",
        "outputId": "2168420b-fd4d-412e-ee9c-b53672a7c390"
      },
      "execution_count": null,
      "outputs": [
        {
          "output_type": "stream",
          "name": "stdout",
          "text": [
            "Index of minimum element is 2\n",
            "Argmin using numpy 2\n"
          ]
        }
      ]
    }
  ]
}